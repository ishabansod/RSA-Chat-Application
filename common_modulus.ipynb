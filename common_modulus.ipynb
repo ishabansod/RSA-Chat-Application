{
 "cells": [
  {
   "cell_type": "code",
   "execution_count": 5,
   "metadata": {},
   "outputs": [],
   "source": [
    "#!pip install gmpy2"
   ]
  },
  {
   "cell_type": "code",
   "execution_count": 6,
   "metadata": {},
   "outputs": [],
   "source": [
    "import gmpy2\n",
    "from Crypto.Util.number import *\n",
    "\n",
    "def egcd(a, b):\n",
    "  if (a == 0):\n",
    "    return (b, 0, 1)\n",
    "  else:\n",
    "    g, y, x = egcd(b % a, a)\n",
    "    return (g, x - (b // a) * y, y)\n",
    "\n",
    "# function to calculate a^{b} mod n when b < 0\n",
    "def neg_pow(a, b, n):\n",
    "    assert b < 0\n",
    "    assert GCD(a, n) == 1\n",
    "    res = int(gmpy2.invert(a, n))\n",
    "    res = pow(res, b*(-1), n)\n",
    "    return res\n",
    "\n",
    "# e1 --> Public Key exponent used to encrypt message m and get ciphertext c1\n",
    "# e2 --> Public Key exponent used to encrypt message m and get ciphertext c2\n",
    "# n --> Modulus\n",
    "# The following attack works only when m^{GCD(e1, e2)} < n\n",
    "def common_modulus(e1, e2, n, c1, c2):\n",
    "    g, a, b = egcd(e1, e2)\n",
    "    if a < 0:\n",
    "        c1 = neg_pow(c1, a, n)\n",
    "    else:\n",
    "        c1 = pow(c1, a, n)\n",
    "    if b < 0:\n",
    "        c2 = neg_pow(c2, b, n)\n",
    "    else:\n",
    "        c2 = pow(c2, b, n)\n",
    "    ct = c1*c2 % n\n",
    "    m = int(gmpy2.iroot(ct, g)[0])\n",
    "    return long_to_bytes(m)"
   ]
  },
  {
   "cell_type": "code",
   "execution_count": null,
   "metadata": {},
   "outputs": [],
   "source": []
  }
 ],
 "metadata": {
  "kernelspec": {
   "display_name": "Python 3",
   "language": "python",
   "name": "python3"
  },
  "language_info": {
   "codemirror_mode": {
    "name": "ipython",
    "version": 3
   },
   "file_extension": ".py",
   "mimetype": "text/x-python",
   "name": "python",
   "nbconvert_exporter": "python",
   "pygments_lexer": "ipython3",
   "version": "3.7.4"
  }
 },
 "nbformat": 4,
 "nbformat_minor": 2
}
