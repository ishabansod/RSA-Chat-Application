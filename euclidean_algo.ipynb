{
 "cells": [
  {
   "cell_type": "markdown",
   "metadata": {},
   "source": [
    "# euclidean algo"
   ]
  },
  {
   "cell_type": "code",
   "execution_count": 1,
   "metadata": {},
   "outputs": [
    {
     "name": "stdout",
     "output_type": "stream",
     "text": [
      "10 15 5\n"
     ]
    }
   ],
   "source": [
    "def gcd(a, b): \n",
    "    if a == 0 :\n",
    "        return b \n",
    "    return gcd(b%a, a)\n",
    "\n",
    "a = 10\n",
    "b = 15\n",
    "print(a ,b, gcd(a, b))\n"
   ]
  },
  {
   "cell_type": "code",
   "execution_count": 28,
   "metadata": {},
   "outputs": [
    {
     "name": "stdout",
     "output_type": "stream",
     "text": [
      "1\n"
     ]
    }
   ],
   "source": [
    "#extended euclidean algo\n",
    "def extended(a, b): \n",
    "    if a == 0 : \n",
    "        return b, 0, 1\n",
    "    gcd, x1, y1 = extended(b%a, a) \n",
    "\n",
    "    x = y1 - (b/a) * x1 \n",
    "    y = x1 \n",
    "    \n",
    "    return (gcd,x,y)\n",
    "\n",
    "a = 127864658221690453628879885537140615064470639567227373151428465455686666227926972475532671200344680476413121787052845817097066127478171003414156813475604601791501582739214238148571687029685965729826101000441440513339656491657368436186623853667619978722491479488799069903297570875101002520085085669559423667103\n",
    "b= 17470693743289617208387491374133953980179758429728075561649639673104370551743469505134669204508560163790130734948621737496517355975451968941324983392397224841952047542568380816185840564065850817302314009186111602729058511941416812808354258007622515393223986098095893949925032165093281055948131630344455434897481233505939107931299597475166656865039579515811686811576540882501801114566114454394138045468660665309224563027012696001759502781753594794696020647768723641464485137252386199859017688014364304526888900559464041838009483650028728881520511765177259067649305528808634998594482561746959433916543793318311371078809\n",
    "tup = extended(a, b) \n",
    "g=tup[0]\n",
    "x=tup[1]\n",
    "y=tup[2]\n",
    "print(g) \n"
   ]
  },
  {
   "cell_type": "code",
   "execution_count": 25,
   "metadata": {
    "scrolled": true
   },
   "outputs": [
    {
     "name": "stdout",
     "output_type": "stream",
     "text": [
      "p:  96172083874913741339539801797584297280755616496396731043705517434695051346692045085601637901307349486217374965173559754519689413249833923972248419520475425683808161858405640658508173023140091861116027290585119414168128083542580076225153932239860980958939499250321650932810559481316303444554348974812335059391\n",
      "q:  156782374104576695897365646601041572957677282369077182723158049216135764058561053960277373566264593643463398789417447891841317817153342448066105736017070309643659253053674503049676978066412242221482623131238766529481723791256093644370354339259393171086342014059263617741862538313431691639272604513687560127701\n",
      "Q:  0.6134113252473471\n",
      "R:  96172083874913741339539801797584297280755616496396731043705517434695051346692045085601637901307349486217374965173559754519689413249833923972248419520475425683808161858405640658508173023140091861116027290585119414168128083542580076225153932239860980958939499250321650932810559481316303444554348974812335059391\n"
     ]
    }
   ],
   "source": [
    "#generate large no\n",
    "from __future__ import unicode_literals\n",
    "from math import sqrt\n",
    "import random\n",
    "from sys import getsizeof #get the size of variable\n",
    "from random import randint as rand\n",
    "from random import getrandbits\n",
    "import sympy\n",
    "    \n",
    "def prime(bitlength):\n",
    "    a = '1'+'0'*(bitlength-1)\n",
    "    b = '1'*bitlength\n",
    "    p = sympy.randprime(int(a, 2), int(b, 2))\n",
    "    return p\n",
    "\n",
    "def generate_large_no(keysize):\n",
    "    p = prime(keysize)\n",
    "    q = prime(keysize)\n",
    "    return (p,q)\n",
    "    \n",
    "tup=generate_large_no(1024)\n",
    "\n",
    "p=tup[0]\n",
    "q=tup[1]\n",
    "\n",
    "print(\"p: \",p)\n",
    "print(\"q: \",q)\n",
    "div = p/q\n",
    "mod=p%q\n",
    "print(\"Q: \",div)\n",
    "print(\"R: \",mod)\n",
    "# print(\"Size of: \",getsizeof(p))\n",
    "# print(\"Size of: \",getsizeof(div))\n",
    "# print(\"Size of: \",getsizeof(mod))"
   ]
  },
  {
   "cell_type": "code",
   "execution_count": 17,
   "metadata": {},
   "outputs": [
    {
     "name": "stdout",
     "output_type": "stream",
     "text": [
      "1\n",
      "2\n",
      "Length of integer 3\n"
     ]
    }
   ],
   "source": [
    "tup=((1,2),(3,4))\n",
    "print(tup[0][0])\n",
    "print(tup[0][1])\n",
    "\n",
    "print(\"Length of integer\",len(str(123)))"
   ]
  },
  {
   "cell_type": "code",
   "execution_count": 16,
   "metadata": {},
   "outputs": [
    {
     "name": "stdout",
     "output_type": "stream",
     "text": [
      "1024\n"
     ]
    }
   ],
   "source": [
    "# count total bits in given variable\n",
    "import math\n",
    "def count(number):\n",
    "    \n",
    "    return int((math.log(number) /\n",
    "                math.log(2)) + 1);\n",
    "\n",
    "num =100962113905790535352479797068897056601941766292545709612278837324911129915466776431888638621530550231745994118566292567194503240053543097315727002908614314137942307306343300901345042054458146783471973355818919900538451767585780301265733611845221301715580645648026077526895373848753369986884628955850609859783 ;\n",
    "print(count(num));"
   ]
  },
  {
   "cell_type": "code",
   "execution_count": 20,
   "metadata": {},
   "outputs": [
    {
     "name": "stdout",
     "output_type": "stream",
     "text": [
      "Euclidean:  1\n",
      "Extended Euclidean:  1\n",
      "X:  8096.664355195513\n",
      "Y:  -5797.740057371913\n",
      "P:  54037\n",
      "Q:  64781\n"
     ]
    }
   ],
   "source": [
    "#large no euclidean\n",
    "from __future__ import unicode_literals\n",
    "from math import sqrt\n",
    "import random\n",
    "from random import randint as rand\n",
    "from random import getrandbits\n",
    "import sympy\n",
    "\n",
    "def euclidean(a, b):\n",
    "    if a == 0:\n",
    "        return b\n",
    "    else:\n",
    "        return euclidean(b%a, a)\n",
    "\n",
    "def extended_euclidean(a, b):\n",
    "    if a == 0 : \n",
    "        return b, 0, 1\n",
    "    gcd, x1, y1 = extended_euclidean(b%a, a) \n",
    "\n",
    "    x = y1 - (b/a) * x1 \n",
    "    y = x1 \n",
    "    return gcd, x, y\n",
    "\n",
    "def prime(bitlength):\n",
    "    a = '1'+'0'*(bitlength-1)\n",
    "    b = '1'*bitlength\n",
    "    p = sympy.randprime(int(a, 2), int(b, 2))\n",
    "    return p\n",
    "\n",
    "def generate_large_no(keysize):\n",
    "    p = prime(keysize)\n",
    "    q = prime(keysize)\n",
    "    g = euclidean(p,q)\n",
    "    eg = extended_euclidean(p,q)\n",
    "    \n",
    "    return (g,eg,p,q)\n",
    "\n",
    "tup = generate_large_no(16)\n",
    "print(\"Euclidean: \",tup[0])\n",
    "print(\"Extended Euclidean: \",tup[1][0])\n",
    "print(\"X: \",tup[1][1])\n",
    "print(\"Y: \",tup[1][2])\n",
    "print(\"P: \",tup[2])\n",
    "print(\"Q: \",tup[3])"
   ]
  }
 ],
 "metadata": {
  "kernelspec": {
   "display_name": "Python 3",
   "language": "python",
   "name": "python3"
  },
  "language_info": {
   "codemirror_mode": {
    "name": "ipython",
    "version": 3
   },
   "file_extension": ".py",
   "mimetype": "text/x-python",
   "name": "python",
   "nbconvert_exporter": "python",
   "pygments_lexer": "ipython3",
   "version": "3.7.4"
  }
 },
 "nbformat": 4,
 "nbformat_minor": 2
}
