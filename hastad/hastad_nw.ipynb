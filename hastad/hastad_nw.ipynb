{
 "cells": [
  {
   "cell_type": "code",
   "execution_count": 4,
   "metadata": {},
   "outputs": [
    {
     "name": "stdout",
     "output_type": "stream",
     "text": [
      "[+] Encountered an unusual error while calculating inverse using gmpy2.invert()\n",
      "[+] CRT function broken. Check the function again!\n"
     ]
    }
   ],
   "source": [
    "from Crypto.Util.number import GCD, bytes_to_long, long_to_bytes\n",
    "import gmpy2\n",
    "\n",
    "def crt(list_a, list_m):\n",
    "    \"\"\"\n",
    "    Reference: https://crypto.stanford.edu/pbc/notes/numbertheory/crt.html\n",
    "    Returns the output after computing Chinese Remainder Theorem on\n",
    "    x = a_1 mod m_1\n",
    "    x = a_2 mod m_2\n",
    "    ...\n",
    "    x = a_n mod m_n\n",
    "    input parameter list_a = [a_1, a_2, ..., a_n]\n",
    "    input parameter list_m = [m_1, m_2, ..., m_n]\n",
    "    Returns -1 if the operation is unsuccessful due to some exceptions\n",
    "    \"\"\"\n",
    "    try:\n",
    "        assert len(list_a) == len(list_m)\n",
    "    except:\n",
    "        print (\"[+] Length of list_a should be equal to length of list_m\")\n",
    "        return -1\n",
    "    for i in range(len(list_m)):\n",
    "        for j in range(len(list_m)):\n",
    "            if GCD(list_m[i], list_m[j])!= 1 and i!=j:\n",
    "                print (\"[+] Moduli should be pairwise co-prime\")\n",
    "                return -1\n",
    "    M = 1\n",
    "    for i in list_m:\n",
    "        M *= i\n",
    "    list_b = [M/i for i in list_m]\n",
    "    assert len(list_b) == len(list_m)\n",
    "    try:\n",
    "        list_b_inv = [int(gmpy2.invert(list_b[i], list_m[i])) for i in range(len(list_m))]\n",
    "    except:\n",
    "        print (\"[+] Encountered an unusual error while calculating inverse using gmpy2.invert()\")\n",
    "        return -1\n",
    "    x = 0\n",
    "    for i in range(len(list_m)):\n",
    "        x += list_a[i]*list_b[i]*list_b_inv[i]\n",
    "    return x % M\n",
    "\n",
    "\n",
    "def test_crt():\n",
    "    \"\"\"\n",
    "    Checking the validity and consistency of CRT function\n",
    "    \"\"\"\n",
    "    list_a = [[2, 3], [1, 2, 3, 4], [6, 4]]\n",
    "    list_m = [[5, 7], [5, 7, 9, 11], [7, 8]]\n",
    "    soln_list = [17, 1731, 20]\n",
    "    try:\n",
    "        for i in range(len(list_a)):\n",
    "            assert crt(list_a[i], list_m[i]) == soln_list[i]\n",
    "    except:\n",
    "        print (\"[+] CRT function broken. Check the function again!\")\n",
    "\n",
    "\n",
    "def hastad_unpadded(ct_list, mod_list, e):\n",
    "    \"\"\"\n",
    "    Implementing Hastad's Broadcast Attack\n",
    "    \"\"\"\n",
    "    m_expo = crt(ct_list, mod_list)\n",
    "    if m_expo != -1:\n",
    "        eth_root = gmpy2.iroot(m_expo, e)\n",
    "        if eth_root[1] == False:\n",
    "            print (\"[+] Cannot calculate e'th root!\")\n",
    "            return -1\n",
    "        elif eth_root[1] == True:\n",
    "            return long_to_bytes(eth_root)\n",
    "    else:\n",
    "        print (\"[+] Cannot calculate CRT\")\n",
    "        return -1\n",
    "\n",
    "test_crt()"
   ]
  },
  {
   "cell_type": "code",
   "execution_count": null,
   "metadata": {},
   "outputs": [],
   "source": []
  }
 ],
 "metadata": {
  "kernelspec": {
   "display_name": "Python 3",
   "language": "python",
   "name": "python3"
  },
  "language_info": {
   "codemirror_mode": {
    "name": "ipython",
    "version": 3
   },
   "file_extension": ".py",
   "mimetype": "text/x-python",
   "name": "python",
   "nbconvert_exporter": "python",
   "pygments_lexer": "ipython3",
   "version": "3.7.4"
  }
 },
 "nbformat": 4,
 "nbformat_minor": 2
}
